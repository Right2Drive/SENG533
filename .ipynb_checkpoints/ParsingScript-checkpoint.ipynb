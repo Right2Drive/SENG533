{
 "cells": [
  {
   "cell_type": "code",
   "execution_count": 12,
   "metadata": {},
   "outputs": [
    {
     "name": "stdout",
     "output_type": "stream",
     "text": [
      "client-results.txt server-results.txt params.txt parsed-results.csv\n"
     ]
    }
   ],
   "source": [
    "clientResultsFilename = 'client-results.txt'\n",
    "serverResultsFilename = 'server-results.txt'\n",
    "paramsFilename = 'params.txt'\n",
    "parsedResultsFilename = 'parsed-results.csv'\n",
    "\n",
    "print(clientResultsFilename, serverResultsFilename, paramsFilename, parsedResultsFilename)"
   ]
  },
  {
   "cell_type": "code",
   "execution_count": null,
   "metadata": {},
   "outputs": [],
   "source": [
    "\n"
   ]
  },
  {
   "cell_type": "code",
   "execution_count": 13,
   "metadata": {},
   "outputs": [],
   "source": [
    "clientResultsFile = open(clientResultsFilename, \"r\")\n",
    "\n",
    "# Search in client-results\n",
    "currentRun = None\n",
    "netIO = None\n",
    "bandwidth = None\n",
    "replyTime = None\n",
    "results = dict()\n",
    "for line in clientResultsFile.readlines():\n",
    "    line = line.rstrip()\n",
    "    if currentRun == None and line.startswith(\"run\"):\n",
    "        currentRun = line.split(\" \")[1]\n",
    "    elif line.startswith(\"Net I/O\"):\n",
    "        netIO = line.split(\": \")[1].split(\"KB/s\")[0]\n",
    "    elif line.startswith(\"[  3]\") and line.endswith(\"Mbits/sec\"):\n",
    "        bw = line.split(\"   \")[2].split(\" \")[0]\n",
    "        bandwidth = str(float(bw) * 125)\n",
    "    elif line.startswith(\"Reply time [ms]\"):\n",
    "        replyTime = line.split(\": \")[1].split(\" \")[1]\n",
    "    elif line.startswith(\"Connection time [ms]: connect\"):\n",
    "        connectionTime = line.split(\": \")[1].split(\" \")[1]\n",
    "    elif currentRun != None and line.startswith(\"run\"):\n",
    "        results[currentRun] = { \"connectionTime\": connectionTime, \"replyTime\": replyTime, \"netIO\": netIO, \"bandwidth\": bandwidth }\n",
    "        currentRun = line.split(\" \")[1]\n",
    "\n",
    "results[currentRun] = { \"connectionTime\": connectionTime, \"replyTime\": replyTime, \"netIO\": netIO, \"bandwidth\": bandwidth }\n",
    "# print(results)"
   ]
  },
  {
   "cell_type": "code",
   "execution_count": 14,
   "metadata": {},
   "outputs": [],
   "source": [
    "serverResultsFile = open(serverResultsFilename, \"r\")\n",
    "\n",
    "currentServerRun = None\n",
    "utilIsNextLine = False\n",
    "util = None\n",
    "for line in serverResultsFile.readlines():\n",
    "    line = line.rstrip()\n",
    "    if currentServerRun == None and line.startswith(\"run\"):\n",
    "        currentServerRun = line.split(\" \")[1]\n",
    "    elif line.startswith(\"Utilization of core 0 is:\"):\n",
    "        utilIsNextLine = True\n",
    "    elif utilIsNextLine == True:\n",
    "        utilIsNextLine = False\n",
    "        util = line\n",
    "    elif currentServerRun != None and line.startswith(\"run\"):\n",
    "        results[currentServerRun][\"CpuUtilization\"] = util\n",
    "        currentServerRun = line.split(\" \")[1]\n",
    "results[currentServerRun][\"CpuUtilization\"] = util\n"
   ]
  },
  {
   "cell_type": "code",
   "execution_count": 15,
   "metadata": {},
   "outputs": [],
   "source": [
    "paramsFile = open(paramsFilename, \"r\")\n",
    "\n",
    "for line in paramsFile.readlines():\n",
    "    line = line.rstrip()\n",
    "    splitted = line.split(\" \")\n",
    "    run = splitted[1][:-1]\n",
    "    sessions = splitted[2].split(\"=\")[1]\n",
    "    period = splitted[3].split(\"=\")[1]\n",
    "    i = 0\n",
    "    for i in range(0, 4):\n",
    "        id = run + \"-\" + str(i)\n",
    "        results[id][\"Sessions\"] = sessions\n",
    "        results[id][\"Period\"] = period\n",
    "        i = i + 1"
   ]
  },
  {
   "cell_type": "code",
   "execution_count": 22,
   "metadata": {},
   "outputs": [],
   "source": [
    "parsedResultsFile = open(parsedResultsFilename, \"w\")\n",
    "\n",
    "parsedResultsFile.write(\"Run #, Period, Number of Sessions, Connection Time, Reply Time, CPU Utilization, Network Bandwidth, Network I/O\\n\")\n",
    "for key, value in results.items():\n",
    "    parsedResultsFile.write(key.replace(\"-\", \"_\") + \",\")\n",
    "    parsedResultsFile.write(value[\"Period\"] + \",\")\n",
    "    parsedResultsFile.write(value[\"Sessions\"] + \",\")\n",
    "    parsedResultsFile.write(value[\"connectionTime\"] + \",\")\n",
    "    parsedResultsFile.write(value[\"replyTime\"] + \",\")\n",
    "    parsedResultsFile.write(value[\"CpuUtilization\"] + \",\")\n",
    "    parsedResultsFile.write(value[\"bandwidth\"] + \",\")\n",
    "    parsedResultsFile.write(value[\"netIO\"] + \"\\n\")\n",
    "\n",
    "parsedResultsFile.close()\n"
   ]
  },
  {
   "cell_type": "code",
   "execution_count": 23,
   "metadata": {},
   "outputs": [
    {
     "name": "stdout",
     "output_type": "stream",
     "text": [
      "{'0': {'Arrival Rate': '14.285714285714285', 'Response Time': '0.8749999999999999', 'Cpu Utilization': '4.3175', 'Network Utilization': '0.011564093197396262'}, '1': {'Arrival Rate': '15.001500150015001', 'Response Time': '1.325', 'Cpu Utilization': '4.279999999999999', 'Network Utilization': '0.010587691386854895'}, '2': {'Arrival Rate': '15.715857300015715', 'Response Time': '1.35', 'Cpu Utilization': '5.382499999999999', 'Network Utilization': '0.011076974356753009'}, '3': {'Arrival Rate': '16.43115346697338', 'Response Time': '0.9249999999999999', 'Cpu Utilization': '5.2250000000000005', 'Network Utilization': '0.011700906678460861'}, '4': {'Arrival Rate': '17.143836790673753', 'Response Time': '0.875', 'Cpu Utilization': '5.6450000000000005', 'Network Utilization': '0.012923901844873987'}, '5': {'Arrival Rate': '17.857142857142858', 'Response Time': '0.825', 'Cpu Utilization': '5.487500000000001', 'Network Utilization': '0.014400026546701153'}, '6': {'Arrival Rate': '18.573551263001487', 'Response Time': '1.25', 'Cpu Utilization': '5.4975000000000005', 'Network Utilization': '0.013166359348856918'}, '7': {'Arrival Rate': '19.286403085824492', 'Response Time': '0.875', 'Cpu Utilization': '5.28', 'Network Utilization': '0.014656961665719821'}, '8': {'Arrival Rate': '20.0', 'Response Time': '0.8749999999999999', 'Cpu Utilization': '5.6875', 'Network Utilization': '0.01416541459957477'}, '9': {'Arrival Rate': '20.716801325875284', 'Response Time': '0.85', 'Cpu Utilization': '6.5625', 'Network Utilization': '0.014704990205249322'}, '10': {'Arrival Rate': '21.43163309044149', 'Response Time': '0.875', 'Cpu Utilization': '5.967499999999999', 'Network Utilization': '0.01611960385649121'}, '11': {'Arrival Rate': '22.143489813994687', 'Response Time': '0.8999999999999999', 'Cpu Utilization': '6.1674999999999995', 'Network Utilization': '0.015470950894039303'}, '12': {'Arrival Rate': '22.857142857142858', 'Response Time': '0.8999999999999999', 'Cpu Utilization': '5.935', 'Network Utilization': '0.01700172961646238'}, '13': {'Arrival Rate': '23.573785950023574', 'Response Time': '0.8749999999999999', 'Cpu Utilization': '5.8775', 'Network Utilization': '0.01863551499207796'}, '14': {'Arrival Rate': '24.28953121204761', 'Response Time': '0.9', 'Cpu Utilization': '6.352499999999999', 'Network Utilization': '0.017967757098257403'}, '15': {'Arrival Rate': '25.0', 'Response Time': '0.8999999999999999', 'Cpu Utilization': '6.279999999999999', 'Network Utilization': '0.017403842008888965'}}\n"
     ]
    }
   ],
   "source": [
    "parsedResultsFile = open(parsedResultsFilename, \"r\")\n",
    "\n",
    "currentResultsRun = None\n",
    "arrivalRateSum = 0\n",
    "\n",
    "responseSum = 0\n",
    "cpuUtilSum = 0 \n",
    "networkUtilizationSum = 0\n",
    "\n",
    "count = 0\n",
    "\n",
    "\n",
    "def addToValues(p, c, r, u, b, n):\n",
    "    global arrivalRateSum, responseSum, cpuUtilSum, networkUtilizationSum, count\n",
    "    arrivalRateSum = arrivalRateSum + (1/float(p))\n",
    "    \n",
    "    responseSum = responseSum + float(r) + float(c)\n",
    "    cpuUtilSum = cpuUtilSum + float(u)\n",
    "    \n",
    "    nwu = float(n)/float(b)\n",
    "    networkUtilizationSum = networkUtilizationSum + nwu\n",
    "    \n",
    "    count = count + 1\n",
    "\n",
    "def clearValues():\n",
    "    global arrivalRateSum, responseSum, cpuUtilSum, networkUtilizationSum, count\n",
    "    arrivalRateSum = 0\n",
    "\n",
    "    responseSum = 0\n",
    "    cpuUtilSum = 0 \n",
    "    networkUtilizationSum = 0\n",
    "\n",
    "    count = 0\n",
    "    \n",
    "def calculateAverage(num, count):\n",
    "    return str(num / count)\n",
    "\n",
    "def generateAverages():\n",
    "    global arrivalRateSum, responseSum, cpuUtilSum, networkUtilizationSum, count\n",
    "    arrivalRateAvg = calculateAverage(arrivalRateSum, count)\n",
    "    \n",
    "    responseAvg = calculateAverage(responseSum, count)\n",
    "    cpuUtilAvg = calculateAverage(cpuUtilSum, count)\n",
    "    \n",
    "    networkUtilizationAvg = calculateAverage(networkUtilizationSum, count)\n",
    "    return {\n",
    "        \"Arrival Rate\": arrivalRateAvg,\n",
    "        \"Response Time\": responseAvg,\n",
    "        \"Cpu Utilization\": cpuUtilAvg,\n",
    "        \"Network Utilization\": networkUtilizationAvg\n",
    "    }\n",
    "    \n",
    "finalResults = dict()\n",
    "for line in parsedResultsFile.readlines():\n",
    "    line = line.rstrip()\n",
    "    if line.startswith(\"Run\"):\n",
    "        continue\n",
    "        \n",
    "    run, period, sessions, connection, reply, cpuUtil, bandwidth, network = line.split(\",\")[0:8]\n",
    "    resultsRun = run.split(\"_\")[0]\n",
    "    if currentResultsRun == None:\n",
    "        currentResultsRun = resultsRun\n",
    "        addToValues(period, connection, reply, cpuUtil, bandwidth, network)\n",
    "    elif currentResultsRun == resultsRun:\n",
    "        addToValues(period, connection, reply, cpuUtil, bandwidth, network)\n",
    "    elif currentResultsRun != resultsRun:\n",
    "        finalResults[currentResultsRun] = generateAverages()\n",
    "        currentResultsRun = resultsRun \n",
    "        clearValues()\n",
    "        addToValues(period, connection, reply, cpuUtil, bandwidth, network)\n",
    "\n",
    "finalResults[currentResultsRun] = generateAverages()\n",
    "print(finalResults)"
   ]
  },
  {
   "cell_type": "code",
   "execution_count": 24,
   "metadata": {},
   "outputs": [],
   "source": [
    "averagedResultsFile = open(\"AveragedResults.csv\", \"w\")\n",
    "\n",
    "averagedResultsFile.write(\"Run #, Arrival Rate, Average Response Time (ms), Average CPU Utilization, Average Network Utilization\\n\")\n",
    "for key, value in finalResults.items():\n",
    "    averagedResultsFile.write(key + \",\")\n",
    "    averagedResultsFile.write(value[\"Arrival Rate\"] + \",\")\n",
    "    averagedResultsFile.write(value[\"Response Time\"] + \",\")\n",
    "    averagedResultsFile.write(value[\"Cpu Utilization\"] + \",\")\n",
    "    averagedResultsFile.write(value[\"Network Utilization\"] + \"\\n\")\n",
    "\n",
    "averagedResultsFile.close()"
   ]
  },
  {
   "cell_type": "code",
   "execution_count": 25,
   "metadata": {},
   "outputs": [
    {
     "data": {
      "text/plain": [
       "'Run #, Arrival Rate, Average Response Time (ms), Average CPU Utilization, Average Network Utilization\\n0,14.285714285714285,0.8749999999999999,4.3175,0.011564093197396262\\n1,15.001500150015001,1.325,4.279999999999999,0.010587691386854895\\n2,15.715857300015715,1.35,5.382499999999999,0.011076974356753009\\n3,16.43115346697338,0.9249999999999999,5.2250000000000005,0.011700906678460861\\n4,17.143836790673753,0.875,5.6450000000000005,0.012923901844873987\\n5,17.857142857142858,0.825,5.487500000000001,0.014400026546701153\\n6,18.573551263001487,1.25,5.4975000000000005,0.013166359348856918\\n7,19.286403085824492,0.875,5.28,0.014656961665719821\\n8,20.0,0.8749999999999999,5.6875,0.01416541459957477\\n9,20.716801325875284,0.85,6.5625,0.014704990205249322\\n10,21.43163309044149,0.875,5.967499999999999,0.01611960385649121\\n11,22.143489813994687,0.8999999999999999,6.1674999999999995,0.015470950894039303\\n12,22.857142857142858,0.8999999999999999,5.935,0.01700172961646238\\n13,23.573785950023574,0.8749999999999999,5.8775,0.01863551499207796\\n14,24.28953121204761,0.9,6.352499999999999,0.017967757098257403\\n15,25.0,0.8999999999999999,6.279999999999999,0.017403842008888965\\n'"
      ]
     },
     "execution_count": 25,
     "metadata": {},
     "output_type": "execute_result"
    }
   ],
   "source": [
    "averagedResultsFile = open(\"AveragedResults.csv\", \"r\")\n",
    "averagedResultsFile.read()"
   ]
  },
  {
   "cell_type": "code",
   "execution_count": null,
   "metadata": {},
   "outputs": [],
   "source": []
  }
 ],
 "metadata": {
  "kernelspec": {
   "display_name": "Python 3",
   "language": "python",
   "name": "python3"
  },
  "language_info": {
   "codemirror_mode": {
    "name": "ipython",
    "version": 3
   },
   "file_extension": ".py",
   "mimetype": "text/x-python",
   "name": "python",
   "nbconvert_exporter": "python",
   "pygments_lexer": "ipython3",
   "version": "3.6.3"
  }
 },
 "nbformat": 4,
 "nbformat_minor": 2
}
