{
 "cells": [
  {
   "cell_type": "code",
   "execution_count": 68,
   "metadata": {},
   "outputs": [
    {
     "name": "stdout",
     "output_type": "stream",
     "text": [
      "client-results.txt server-results.txt params.txt parsed-results.csv\n"
     ]
    }
   ],
   "source": [
    "clientResultsFilename = 'client-results.txt'\n",
    "serverResultsFilename = 'server-results.txt'\n",
    "paramsFilename = 'params.txt'\n",
    "parsedResultsFilename = 'parsed-results.csv'\n",
    "\n",
    "print(clientResultsFilename, serverResultsFilename, paramsFilename, parsedResultsFilename)"
   ]
  },
  {
   "cell_type": "code",
   "execution_count": null,
   "metadata": {},
   "outputs": [],
   "source": [
    "\n"
   ]
  },
  {
   "cell_type": "code",
   "execution_count": 69,
   "metadata": {},
   "outputs": [],
   "source": [
    "clientResultsFile = open(clientResultsFilename, \"r\")\n",
    "\n",
    "# Search in client-results\n",
    "currentRun = None\n",
    "netIO = None\n",
    "bandwidth = None\n",
    "responseTime = None\n",
    "results = dict()\n",
    "for line in clientResultsFile.readlines():\n",
    "    line = line.rstrip()\n",
    "    if currentRun == None and line.startswith(\"run\"):\n",
    "        currentRun = line.split(\" \")[1]\n",
    "    elif line.startswith(\"Net I/O\"):\n",
    "        netIO = line.split(\": \")[1].split(\"KB/s\")[0]\n",
    "    elif line.startswith(\"[  3]\") and line.endswith(\"Mbits/sec\"):\n",
    "        bandwidth = line.split(\"   \")[2].split(\" \")[0]\n",
    "    elif line.startswith(\"Reply time [ms]\"):\n",
    "        responseTime = line.split(\": \")[1].split(\" \")[1]\n",
    "    elif currentRun != None and line.startswith(\"run\"):\n",
    "        results[currentRun] = { \"responseTime\": responseTime, \"netIO\": netIO, \"bandwidth\": bandwidth }\n",
    "#         print(currentRun, responseTime, netIO, bandwidth)\n",
    "        currentRun = line.split(\" \")[1]\n",
    "\n",
    "# print(currentRun, responseTime, netIO, bandwidth)\n",
    "results[currentRun] = { \"responseTime\": responseTime, \"netIO\": netIO, \"bandwidth\": bandwidth }\n"
   ]
  },
  {
   "cell_type": "code",
   "execution_count": 70,
   "metadata": {},
   "outputs": [],
   "source": [
    "serverResultsFile = open(serverResultsFilename, \"r\")\n",
    "\n",
    "currentServerRun = None\n",
    "utilIsNextLine = False\n",
    "util = None\n",
    "for line in serverResultsFile.readlines():\n",
    "    line = line.rstrip()\n",
    "    if currentServerRun == None and line.startswith(\"run\"):\n",
    "        currentServerRun = line.split(\" \")[1]\n",
    "    elif line.startswith(\"Utilization of core 0 is:\"):\n",
    "        utilIsNextLine = True\n",
    "    elif utilIsNextLine == True:\n",
    "        utilIsNextLine = False\n",
    "        util = line\n",
    "    elif currentServerRun != None and line.startswith(\"run\"):\n",
    "        results[currentServerRun][\"CpuUtilization\"] = util\n",
    "        currentServerRun = line.split(\" \")[1]\n",
    "results[currentServerRun][\"CpuUtilization\"] = util\n"
   ]
  },
  {
   "cell_type": "code",
   "execution_count": 71,
   "metadata": {},
   "outputs": [],
   "source": [
    "paramsFile = open(paramsFilename, \"r\")\n",
    "\n",
    "for line in paramsFile.readlines():\n",
    "    line = line.rstrip()\n",
    "    splitted = line.split(\" \")\n",
    "    run = splitted[1][:-1]\n",
    "    sessions = splitted[2].split(\"=\")[1]\n",
    "    period = splitted[3].split(\"=\")[1]\n",
    "    i = 0\n",
    "    for i in range(0, 4):\n",
    "        id = run + \"-\" + str(i)\n",
    "        results[id][\"Sessions\"] = sessions\n",
    "        results[id][\"Period\"] = period\n",
    "        i = i + 1"
   ]
  },
  {
   "cell_type": "code",
   "execution_count": 80,
   "metadata": {},
   "outputs": [],
   "source": [
    "parsedResultsFile = open(parsedResultsFilename, \"w\")\n",
    "\n",
    "parsedResultsFile.write(\"Run #, Period, Number of Sessions, Response Time, CPU Utilization, Network Bandwidth, Network I/O\\n\")\n",
    "for key, value in results.items():\n",
    "    parsedResultsFile.write(key.replace(\"-\", \"_\") + \",\")\n",
    "    parsedResultsFile.write(value[\"Period\"] + \",\")\n",
    "    parsedResultsFile.write(value[\"Sessions\"] + \",\")\n",
    "    parsedResultsFile.write(value[\"responseTime\"] + \",\")\n",
    "    parsedResultsFile.write(value[\"CpuUtilization\"] + \",\")\n",
    "    parsedResultsFile.write(value[\"bandwidth\"] + \",\")\n",
    "    parsedResultsFile.write(value[\"netIO\"] + \"\\n\")\n",
    "\n",
    "parsedResultsFile.close()\n"
   ]
  },
  {
   "cell_type": "code",
   "execution_count": 110,
   "metadata": {},
   "outputs": [
    {
     "name": "stdout",
     "output_type": "stream",
     "text": [
      "{'0': {'Period': '0.07', 'Sessions': '500.0', 'responseTime': '0.525', 'CpuUtilization': '0.89', 'bandwidth': '679.25', 'netIO': '863.875'}, '1': {'Period': '0.06666', 'Sessions': '525.0', 'responseTime': '0.5', 'CpuUtilization': '0.89', 'bandwidth': '679.5', 'netIO': '897.45'}, '2': {'Period': '0.06363', 'Sessions': '550.0', 'responseTime': '0.475', 'CpuUtilization': '0.89', 'bandwidth': '678.5', 'netIO': '940.9'}, '3': {'Period': '0.06086', 'Sessions': '575.0', 'responseTime': '0.525', 'CpuUtilization': '0.89', 'bandwidth': '679.25', 'netIO': '989.1'}, '4': {'Period': '0.05833', 'Sessions': '600.0', 'responseTime': '0.55', 'CpuUtilization': '0.89', 'bandwidth': '679.5', 'netIO': '1025.125'}, '5': {'Period': '0.056', 'Sessions': '625.0', 'responseTime': '0.5', 'CpuUtilization': '0.89', 'bandwidth': '680.0', 'netIO': '1075.95'}, '6': {'Period': '0.05384', 'Sessions': '650.0', 'responseTime': '0.475', 'CpuUtilization': '0.89', 'bandwidth': '679.25', 'netIO': '1111.825'}, '7': {'Period': '0.05185', 'Sessions': '675.0', 'responseTime': '0.525', 'CpuUtilization': '0.89', 'bandwidth': '660.0', 'netIO': '1159.375'}, '8': {'Period': '0.05', 'Sessions': '700.0', 'responseTime': '0.5', 'CpuUtilization': '0.89', 'bandwidth': '665.25', 'netIO': '1197.125'}, '9': {'Period': '0.04827', 'Sessions': '725.0', 'responseTime': '0.525', 'CpuUtilization': '0.89', 'bandwidth': '678.0', 'netIO': '1242.525'}, '10': {'Period': '0.04666', 'Sessions': '750.0', 'responseTime': '0.65', 'CpuUtilization': '0.89', 'bandwidth': '659.0', 'netIO': '1279.85'}, '11': {'Period': '0.04516', 'Sessions': '775.0', 'responseTime': '0.5', 'CpuUtilization': '0.89', 'bandwidth': '664.75', 'netIO': '1310.1'}, '12': {'Period': '0.04375', 'Sessions': '800.0', 'responseTime': '0.5', 'CpuUtilization': '0.89', 'bandwidth': '665.5', 'netIO': '1355.625'}, '13': {'Period': '0.04242', 'Sessions': '825.0', 'responseTime': '0.575', 'CpuUtilization': '0.89', 'bandwidth': '680.0', 'netIO': '1397.225'}, '14': {'Period': '0.04117', 'Sessions': '850.0', 'responseTime': '0.625', 'CpuUtilization': '0.89', 'bandwidth': '679.5', 'netIO': '1433.9'}, '15': {'Period': '0.04', 'Sessions': '875.0', 'responseTime': '0.6000000000000001', 'CpuUtilization': '0.89', 'bandwidth': '680.0', 'netIO': '1475.6499999999999'}}\n"
     ]
    }
   ],
   "source": [
    "parsedResultsFile = open(parsedResultsFilename, \"r\")\n",
    "\n",
    "currentResultsRun = None\n",
    "periodSum = 0\n",
    "sessionsSum = 0\n",
    "responseSum = 0\n",
    "cpuUtilSum = 0\n",
    "bandwidthSum = 0\n",
    "networkSum = 0 \n",
    "count = 0\n",
    "\n",
    "def addToValues(p, s, r, u, b, n):\n",
    "    global periodSum, sessionsSum, responseSum, cpuUtilSum, bandwidthSum, networkSum, count\n",
    "    periodSum = periodSum + float(p)\n",
    "    sessionsSum = sessionsSum + float(s)\n",
    "    responseSum = responseSum + float(r)\n",
    "    cpuUtilSum = cpuUtilSum + float(u)\n",
    "    bandwidthSum = bandwidthSum + float(b)\n",
    "    networkSum = networkSum + float(n)\n",
    "    count = count + 1\n",
    "\n",
    "def clearValues():\n",
    "    global periodSum, sessionsSum, responseSum, cpuUtilSum, bandwidthSum, networkSum, count\n",
    "    periodSum = 0\n",
    "    sessionsSum = 0\n",
    "    responseSum = 0\n",
    "    cpuUtilSum = 0\n",
    "    bandwidthSum = 0\n",
    "    networkSum = 0 \n",
    "    count = 0\n",
    "    \n",
    "def calculateAverage(num, count):\n",
    "    return str(num / count)\n",
    "\n",
    "def generateAverages():\n",
    "    global periodSum, sessionsSum, responseSum, cpuUtilSum, bandwidthSum, networkSum, count\n",
    "    periodAvg = calculateAverage(periodSum, count)\n",
    "    sessionsAvg = calculateAverage(sessionsSum, count)\n",
    "    responseAvg = calculateAverage(responseSum, count)\n",
    "    cpuUtilAvg = calculateAverage(cpuUtilSum, count)\n",
    "    bandwidthAvg = calculateAverage(bandwidthSum, count)\n",
    "    networkAvg = calculateAverage(networkSum, count)\n",
    "    return {\n",
    "        \"Period\": periodAvg,\n",
    "        \"Sessions\": sessionsAvg,\n",
    "        \"responseTime\": responseAvg,\n",
    "        \"CpuUtilization\": cpuUtilAvg,\n",
    "        \"bandwidth\": bandwidthAvg,\n",
    "        \"netIO\": networkAvg\n",
    "    }\n",
    "    \n",
    "finalResults = dict()\n",
    "for line in parsedResultsFile.readlines():\n",
    "    line = line.rstrip()\n",
    "    if line.startswith(\"Run\"):\n",
    "        continue\n",
    "    run, period, sessions, response, cpuUtil, bandwidth, network = line.split(\",\")\n",
    "    resultsRun = run.split(\"_\")[0]\n",
    "    if currentResultsRun == None:\n",
    "        currentResultsRun = resultsRun\n",
    "        addToValues(period, sessions, response, cpuUtil, bandwidth, network)\n",
    "    elif currentResultsRun == resultsRun:\n",
    "        addToValues(period, sessions, response, cpuUtil, bandwidth, network)\n",
    "    elif currentResultsRun != resultsRun:\n",
    "        finalResults[currentResultsRun] = generateAverages()\n",
    "        currentResultsRun = resultsRun \n",
    "        clearValues()\n",
    "        addToValues(period, sessions, response, cpuUtil, bandwidth, network)\n",
    "\n",
    "finalResults[currentResultsRun] = generateAverages()\n",
    "print(finalResults)"
   ]
  },
  {
   "cell_type": "code",
   "execution_count": 111,
   "metadata": {},
   "outputs": [],
   "source": [
    "averagedResultsFile = open(\"AveragedResults.csv\", \"w\")\n",
    "\n",
    "averagedResultsFile.write(\"Run #, Period, Number of Sessions, Average Response Time, Average CPU Utilization, Average Network Bandwidth, Average Network I/O\\n\")\n",
    "for key, value in finalResults.items():\n",
    "    averagedResultsFile.write(key + \",\")\n",
    "    averagedResultsFile.write(value[\"Period\"] + \",\")\n",
    "    averagedResultsFile.write(value[\"Sessions\"] + \",\")\n",
    "    averagedResultsFile.write(value[\"responseTime\"] + \",\")\n",
    "    averagedResultsFile.write(value[\"CpuUtilization\"] + \",\")\n",
    "    averagedResultsFile.write(value[\"bandwidth\"] + \",\")\n",
    "    averagedResultsFile.write(value[\"netIO\"] + \"\\n\")\n",
    "\n",
    "averagedResultsFile.close()"
   ]
  },
  {
   "cell_type": "code",
   "execution_count": null,
   "metadata": {},
   "outputs": [],
   "source": [
    "averagedResultsFile = open(\"AveragedResults.csv\", \"r\")\n",
    "averagedResultsFile.read()"
   ]
  },
  {
   "cell_type": "code",
   "execution_count": null,
   "metadata": {},
   "outputs": [],
   "source": []
  }
 ],
 "metadata": {
  "kernelspec": {
   "display_name": "Python 3",
   "language": "python",
   "name": "python3"
  },
  "language_info": {
   "codemirror_mode": {
    "name": "ipython",
    "version": 3
   },
   "file_extension": ".py",
   "mimetype": "text/x-python",
   "name": "python",
   "nbconvert_exporter": "python",
   "pygments_lexer": "ipython3",
   "version": "3.6.3"
  }
 },
 "nbformat": 4,
 "nbformat_minor": 2
}
