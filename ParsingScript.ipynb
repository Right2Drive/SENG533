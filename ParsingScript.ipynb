{
 "cells": [
  {
   "cell_type": "code",
   "execution_count": 1,
   "metadata": {},
   "outputs": [
    {
     "name": "stdout",
     "output_type": "stream",
     "text": [
      "client-results.txt server-results.txt params.txt parsed-results.csv\n"
     ]
    }
   ],
   "source": [
    "clientResultsFilename = 'client-results.txt'\n",
    "serverResultsFilename = 'server-results.txt'\n",
    "paramsFilename = 'params.txt'\n",
    "parsedResultsFilename = 'parsed-results.csv'\n",
    "\n",
    "print(clientResultsFilename, serverResultsFilename, paramsFilename, parsedResultsFilename)"
   ]
  },
  {
   "cell_type": "code",
   "execution_count": null,
   "metadata": {},
   "outputs": [],
   "source": [
    "\n"
   ]
  },
  {
   "cell_type": "code",
   "execution_count": 2,
   "metadata": {},
   "outputs": [],
   "source": [
    "clientResultsFile = open(clientResultsFilename, \"r\")\n",
    "\n",
    "# Search in client-results\n",
    "currentRun = None\n",
    "netIO = None\n",
    "bandwidth = None\n",
    "replyTime = None\n",
    "results = dict()\n",
    "for line in clientResultsFile.readlines():\n",
    "    line = line.rstrip()\n",
    "    if currentRun == None and line.startswith(\"run\"):\n",
    "        currentRun = line.split(\" \")[1]\n",
    "    elif line.startswith(\"Net I/O\"):\n",
    "        netIO = line.split(\": \")[1].split(\"KB/s\")[0]\n",
    "    elif line.startswith(\"[  3]\") and line.endswith(\"Mbits/sec\"):\n",
    "        bw = line.split(\"   \")[2].split(\" \")[0]\n",
    "        bandwidth = str(float(bw) * 125)\n",
    "    elif line.startswith(\"Reply time [ms]\"):\n",
    "        replyTime = line.split(\": \")[1].split(\" \")[1]\n",
    "    elif line.startswith(\"Connection time [ms]: connect\"):\n",
    "        connectionTime = line.split(\": \")[1].split(\" \")[1]\n",
    "    elif currentRun != None and line.startswith(\"run\"):\n",
    "        results[currentRun] = { \"connectionTime\": connectionTime, \"replyTime\": replyTime, \"netIO\": netIO, \"bandwidth\": bandwidth }\n",
    "        currentRun = line.split(\" \")[1]\n",
    "\n",
    "results[currentRun] = { \"connectionTime\": connectionTime, \"replyTime\": replyTime, \"netIO\": netIO, \"bandwidth\": bandwidth }\n",
    "# print(results)"
   ]
  },
  {
   "cell_type": "code",
   "execution_count": 3,
   "metadata": {},
   "outputs": [],
   "source": [
    "serverResultsFile = open(serverResultsFilename, \"r\")\n",
    "\n",
    "currentServerRun = None\n",
    "utilIsNextLine = False\n",
    "util = None\n",
    "for line in serverResultsFile.readlines():\n",
    "    line = line.rstrip()\n",
    "    if currentServerRun == None and line.startswith(\"run\"):\n",
    "        currentServerRun = line.split(\" \")[1]\n",
    "    elif line.startswith(\"Utilization of core 0 is:\"):\n",
    "        utilIsNextLine = True\n",
    "    elif utilIsNextLine == True:\n",
    "        utilIsNextLine = False\n",
    "        util = line\n",
    "    elif currentServerRun != None and line.startswith(\"run\"):\n",
    "        results[currentServerRun][\"CpuUtilization\"] = util\n",
    "        currentServerRun = line.split(\" \")[1]\n",
    "results[currentServerRun][\"CpuUtilization\"] = util\n"
   ]
  },
  {
   "cell_type": "code",
   "execution_count": 4,
   "metadata": {},
   "outputs": [],
   "source": [
    "paramsFile = open(paramsFilename, \"r\")\n",
    "\n",
    "for line in paramsFile.readlines():\n",
    "    line = line.rstrip()\n",
    "    splitted = line.split(\" \")\n",
    "    run = splitted[1][:-1]\n",
    "    sessions = splitted[2].split(\"=\")[1]\n",
    "    period = splitted[3].split(\"=\")[1]\n",
    "    i = 0\n",
    "    for i in range(0, 4):\n",
    "        id = run + \"-\" + str(i)\n",
    "        results[id][\"Sessions\"] = sessions\n",
    "        results[id][\"Period\"] = period\n",
    "        i = i + 1"
   ]
  },
  {
   "cell_type": "code",
   "execution_count": 5,
   "metadata": {},
   "outputs": [],
   "source": [
    "parsedResultsFile = open(parsedResultsFilename, \"w\")\n",
    "\n",
    "parsedResultsFile.write(\"Run #, Period, Number of Sessions, Connection Time, Reply Time, CPU Utilization, Network Bandwidth, Network I/O\\n\")\n",
    "for key, value in results.items():\n",
    "    parsedResultsFile.write(key.replace(\"-\", \"_\") + \",\")\n",
    "    parsedResultsFile.write(value[\"Period\"] + \",\")\n",
    "    parsedResultsFile.write(value[\"Sessions\"] + \",\")\n",
    "    parsedResultsFile.write(value[\"connectionTime\"] + \",\")\n",
    "    parsedResultsFile.write(value[\"replyTime\"] + \",\")\n",
    "    parsedResultsFile.write(value[\"CpuUtilization\"] + \",\")\n",
    "    parsedResultsFile.write(value[\"bandwidth\"] + \",\")\n",
    "    parsedResultsFile.write(value[\"netIO\"] + \"\\n\")\n",
    "\n",
    "parsedResultsFile.close()\n"
   ]
  },
  {
   "cell_type": "code",
   "execution_count": 18,
   "metadata": {},
   "outputs": [
    {
     "name": "stdout",
     "output_type": "stream",
     "text": [
      "{'0': {'Arrival Rate': '10.0', 'Response Time': '2.5750000000000006', 'Cpu Utilization': '13.7575', 'Network Utilization': '0.2590250472669927'}, '1': {'Arrival Rate': '15.001500150015001', 'Response Time': '2.5500000000000003', 'Cpu Utilization': '16.814999999999998', 'Network Utilization': '0.29331373992896126'}, '2': {'Arrival Rate': '20.0', 'Response Time': '2.85', 'Cpu Utilization': '21.6325', 'Network Utilization': '0.41071744303509733'}, '3': {'Arrival Rate': '25.0', 'Response Time': '3.5750000000000006', 'Cpu Utilization': '25.4', 'Network Utilization': '0.5053854327846237'}, '4': {'Arrival Rate': '30.003000300030003', 'Response Time': '4.075', 'Cpu Utilization': '31.805', 'Network Utilization': '0.6018306332842416'}, '5': {'Arrival Rate': '35.00175008750438', 'Response Time': '5.375', 'Cpu Utilization': '41.302499999999995', 'Network Utilization': '0.7744830684812919'}, '6': {'Arrival Rate': '40.0', 'Response Time': '6.400000000000001', 'Cpu Utilization': '47.47', 'Network Utilization': '0.8069292328450609'}, '7': {'Arrival Rate': '45.00450045004501', 'Response Time': '8.7', 'Cpu Utilization': '49.57749999999999', 'Network Utilization': '0.8990268431935683'}, '8': {'Arrival Rate': '50.0', 'Response Time': '12.475', 'Cpu Utilization': '51.94500000000001', 'Network Utilization': '1.0227677243153557'}, '9': {'Arrival Rate': '55.005500550055004', 'Response Time': '21.849999999999998', 'Cpu Utilization': '55.0025', 'Network Utilization': '1.1002814810727293'}, '10': {'Arrival Rate': '60.024009603841534', 'Response Time': '22.325', 'Cpu Utilization': '57.587500000000006', 'Network Utilization': '1.1570823529411765'}, '11': {'Arrival Rate': '65.01950585175553', 'Response Time': '23.800000000000004', 'Cpu Utilization': '59.5', 'Network Utilization': '1.173761934730258'}, '12': {'Arrival Rate': '70.0280112044818', 'Response Time': '30.950000000000003', 'Cpu Utilization': '62.9225', 'Network Utilization': '1.214037208697912'}, '13': {'Arrival Rate': '75.01875468867217', 'Response Time': '37.37500000000001', 'Cpu Utilization': '65.58500000000001', 'Network Utilization': '1.2890055011695398'}, '14': {'Arrival Rate': '80.0', 'Response Time': '46.62500000000001', 'Cpu Utilization': '66.11', 'Network Utilization': '1.354079528718704'}, '15': {'Arrival Rate': '85.03401360544218', 'Response Time': '47.85000000000001', 'Cpu Utilization': '66.6975', 'Network Utilization': '1.4876354895088362'}, '16': {'Arrival Rate': '90.00900090009002', 'Response Time': '54.12500000000001', 'Cpu Utilization': '69.925', 'Network Utilization': '1.5620766173474718'}, '17': {'Arrival Rate': '95.05703422053232', 'Response Time': '59.875', 'Cpu Utilization': '70.97749999999999', 'Network Utilization': '1.5431337174044875'}, '18': {'Arrival Rate': '100.0', 'Response Time': '67.1', 'Cpu Utilization': '71.185', 'Network Utilization': '1.8397959536278485'}}\n"
     ]
    }
   ],
   "source": [
    "parsedResultsFile = open(parsedResultsFilename, \"r\")\n",
    "\n",
    "currentResultsRun = None\n",
    "arrivalRateSum = 0\n",
    "\n",
    "responseSum = 0\n",
    "cpuUtilSum = 0 \n",
    "networkUtilizationSum = 0\n",
    "\n",
    "count = 0\n",
    "\n",
    "\n",
    "def addToValues(p, c, r, u, b, n):\n",
    "    global arrivalRateSum, responseSum, cpuUtilSum, networkUtilizationSum, count\n",
    "    arrivalRateSum = arrivalRateSum + (1/float(p))\n",
    "    \n",
    "    responseSum = responseSum + float(r) + float(c)\n",
    "    cpuUtilSum = cpuUtilSum + float(u)\n",
    "    \n",
    "    nwu = float(n)/float(b)\n",
    "    networkUtilizationSum = networkUtilizationSum + nwu\n",
    "    \n",
    "    count = count + 1\n",
    "\n",
    "def clearValues():\n",
    "    global arrivalRateSum, responseSum, cpuUtilSum, networkUtilizationSum, count\n",
    "    arrivalRateSum = 0\n",
    "\n",
    "    responseSum = 0\n",
    "    cpuUtilSum = 0 \n",
    "    networkUtilizationSum = 0\n",
    "\n",
    "    count = 0\n",
    "    \n",
    "def calculateAverage(num, count):\n",
    "    return str(num / count)\n",
    "\n",
    "def generateAverages():\n",
    "    global arrivalRateSum, responseSum, cpuUtilSum, networkUtilizationSum, count\n",
    "    arrivalRateAvg = calculateAverage(arrivalRateSum, count)\n",
    "    \n",
    "    responseAvg = calculateAverage(responseSum, count)\n",
    "    cpuUtilAvg = calculateAverage(cpuUtilSum, count)\n",
    "    \n",
    "    networkUtilizationAvg = calculateAverage(networkUtilizationSum, count)\n",
    "    return {\n",
    "        \"Arrival Rate\": arrivalRateAvg,\n",
    "        \"Response Time\": responseAvg,\n",
    "        \"Cpu Utilization\": cpuUtilAvg,\n",
    "        \"Network Utilization\": str(float(networkUtilizationAvg) * 100)\n",
    "    }\n",
    "    \n",
    "finalResults = dict()\n",
    "for line in parsedResultsFile.readlines():\n",
    "    line = line.rstrip()\n",
    "    if line.startswith(\"Run\"):\n",
    "        continue\n",
    "        \n",
    "    run, period, sessions, connection, reply, cpuUtil, bandwidth, network = line.split(\",\")[0:8]\n",
    "    resultsRun = run.split(\"_\")[0]\n",
    "    if currentResultsRun == None:\n",
    "        currentResultsRun = resultsRun\n",
    "        addToValues(period, connection, reply, cpuUtil, bandwidth, network)\n",
    "    elif currentResultsRun == resultsRun:\n",
    "        addToValues(period, connection, reply, cpuUtil, bandwidth, network)\n",
    "    elif currentResultsRun != resultsRun:\n",
    "        finalResults[currentResultsRun] = generateAverages()\n",
    "        currentResultsRun = resultsRun \n",
    "        clearValues()\n",
    "        addToValues(period, connection, reply, cpuUtil, bandwidth, network)\n",
    "\n",
    "finalResults[currentResultsRun] = generateAverages()\n",
    "print(finalResults)"
   ]
  },
  {
   "cell_type": "code",
   "execution_count": 21,
   "metadata": {},
   "outputs": [],
   "source": [
    "averagedResultsFile = open(\"AveragedResults.csv\", \"w\")\n",
    "\n",
    "averagedResultsFile.write(\"Run #, Arrival Rate, Average Response Time (ms), Average CPU Utilization (%), Average Network Utilization (%)\\n\")\n",
    "for key, value in finalResults.items():\n",
    "    averagedResultsFile.write(key + \",\")\n",
    "    averagedResultsFile.write(value[\"Arrival Rate\"] + \",\")\n",
    "    averagedResultsFile.write(value[\"Response Time\"] + \",\")\n",
    "    averagedResultsFile.write(value[\"Cpu Utilization\"] + \",\")\n",
    "    averagedResultsFile.write(value[\"Network Utilization\"] + \"\\n\")\n",
    "\n",
    "averagedResultsFile.close()"
   ]
  },
  {
   "cell_type": "code",
   "execution_count": 20,
   "metadata": {},
   "outputs": [
    {
     "data": {
      "text/plain": [
       "'Run #, Arrival Rate, Average Response Time (ms), Average CPU Utilization, Average Network Utilization\\n0,10.0,2.5750000000000006,13.7575,0.2590250472669927\\n1,15.001500150015001,2.5500000000000003,16.814999999999998,0.29331373992896126\\n2,20.0,2.85,21.6325,0.41071744303509733\\n3,25.0,3.5750000000000006,25.4,0.5053854327846237\\n4,30.003000300030003,4.075,31.805,0.6018306332842416\\n5,35.00175008750438,5.375,41.302499999999995,0.7744830684812919\\n6,40.0,6.400000000000001,47.47,0.8069292328450609\\n7,45.00450045004501,8.7,49.57749999999999,0.8990268431935683\\n8,50.0,12.475,51.94500000000001,1.0227677243153557\\n9,55.005500550055004,21.849999999999998,55.0025,1.1002814810727293\\n10,60.024009603841534,22.325,57.587500000000006,1.1570823529411765\\n11,65.01950585175553,23.800000000000004,59.5,1.173761934730258\\n12,70.0280112044818,30.950000000000003,62.9225,1.214037208697912\\n13,75.01875468867217,37.37500000000001,65.58500000000001,1.2890055011695398\\n14,80.0,46.62500000000001,66.11,1.354079528718704\\n15,85.03401360544218,47.85000000000001,66.6975,1.4876354895088362\\n16,90.00900090009002,54.12500000000001,69.925,1.5620766173474718\\n17,95.05703422053232,59.875,70.97749999999999,1.5431337174044875\\n18,100.0,67.1,71.185,1.8397959536278485\\n'"
      ]
     },
     "execution_count": 20,
     "metadata": {},
     "output_type": "execute_result"
    }
   ],
   "source": [
    "averagedResultsFile = open(\"AveragedResults.csv\", \"r\")\n",
    "averagedResultsFile.read()"
   ]
  },
  {
   "cell_type": "code",
   "execution_count": null,
   "metadata": {},
   "outputs": [],
   "source": []
  }
 ],
 "metadata": {
  "kernelspec": {
   "display_name": "Python 3",
   "language": "python",
   "name": "python3"
  },
  "language_info": {
   "codemirror_mode": {
    "name": "ipython",
    "version": 3
   },
   "file_extension": ".py",
   "mimetype": "text/x-python",
   "name": "python",
   "nbconvert_exporter": "python",
   "pygments_lexer": "ipython3",
   "version": "3.6.3"
  }
 },
 "nbformat": 4,
 "nbformat_minor": 2
}
